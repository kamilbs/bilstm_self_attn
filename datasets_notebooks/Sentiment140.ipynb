{
 "cells": [
  {
   "cell_type": "markdown",
   "metadata": {},
   "source": [
    "In order to apply the **Prepare Vocabulary and Embedding** notebook, and the **Classifier** notebook we need for any dataset to have inside the same folder two files train.csv and eval.csv (and optionally a test.csv).\n",
    "\n",
    "**CSVs should have two columns (one 'text' and one 'label')**\n",
    "\n",
    "Here is a small example for the dataset sentiment140 fetched from https://www.kaggle.com/kazanova/sentiment140, that originally contains a unique 'train.csv' file.\n"
   ]
  },
  {
   "cell_type": "code",
   "execution_count": 3,
   "metadata": {},
   "outputs": [],
   "source": [
    "import pandas as pd\n",
    "import os"
   ]
  },
  {
   "cell_type": "code",
   "execution_count": 4,
   "metadata": {},
   "outputs": [],
   "source": [
    "data_folder = os.path.join('../data/data_sentiment140/')\n",
    "data = pd.read_csv(os.path.join(data_folder,'train.csv'),encoding='latin1', header=None)"
   ]
  },
  {
   "cell_type": "code",
   "execution_count": 5,
   "metadata": {
    "scrolled": true
   },
   "outputs": [
    {
     "data": {
      "text/html": [
       "<div>\n",
       "<style scoped>\n",
       "    .dataframe tbody tr th:only-of-type {\n",
       "        vertical-align: middle;\n",
       "    }\n",
       "\n",
       "    .dataframe tbody tr th {\n",
       "        vertical-align: top;\n",
       "    }\n",
       "\n",
       "    .dataframe thead th {\n",
       "        text-align: right;\n",
       "    }\n",
       "</style>\n",
       "<table border=\"1\" class=\"dataframe\">\n",
       "  <thead>\n",
       "    <tr style=\"text-align: right;\">\n",
       "      <th></th>\n",
       "      <th>0</th>\n",
       "      <th>1</th>\n",
       "      <th>2</th>\n",
       "      <th>3</th>\n",
       "      <th>4</th>\n",
       "      <th>5</th>\n",
       "    </tr>\n",
       "  </thead>\n",
       "  <tbody>\n",
       "    <tr>\n",
       "      <th>1164659</th>\n",
       "      <td>4</td>\n",
       "      <td>1979779494</td>\n",
       "      <td>Sun May 31 04:28:27 PDT 2009</td>\n",
       "      <td>NO_QUERY</td>\n",
       "      <td>Ambaba</td>\n",
       "      <td>@DannyLamond danny lamond you are a willy and ...</td>\n",
       "    </tr>\n",
       "    <tr>\n",
       "      <th>914686</th>\n",
       "      <td>4</td>\n",
       "      <td>1752940783</td>\n",
       "      <td>Sat May 09 23:31:34 PDT 2009</td>\n",
       "      <td>NO_QUERY</td>\n",
       "      <td>mypetpeevescom</td>\n",
       "      <td>I love Google's Mothers day theme  http://tr.i...</td>\n",
       "    </tr>\n",
       "    <tr>\n",
       "      <th>401797</th>\n",
       "      <td>0</td>\n",
       "      <td>2057766258</td>\n",
       "      <td>Sat Jun 06 13:37:16 PDT 2009</td>\n",
       "      <td>NO_QUERY</td>\n",
       "      <td>Bridget004</td>\n",
       "      <td>im gonna have to give my laptop in soon  i hat...</td>\n",
       "    </tr>\n",
       "    <tr>\n",
       "      <th>1285514</th>\n",
       "      <td>4</td>\n",
       "      <td>2002154682</td>\n",
       "      <td>Tue Jun 02 03:19:33 PDT 2009</td>\n",
       "      <td>NO_QUERY</td>\n",
       "      <td>Nesciox</td>\n",
       "      <td>I finished my suggestion for one jewellery com...</td>\n",
       "    </tr>\n",
       "    <tr>\n",
       "      <th>353550</th>\n",
       "      <td>0</td>\n",
       "      <td>2032536741</td>\n",
       "      <td>Thu Jun 04 11:24:03 PDT 2009</td>\n",
       "      <td>NO_QUERY</td>\n",
       "      <td>sheandidesigns</td>\n",
       "      <td>@pixieclips the link doesn't work</td>\n",
       "    </tr>\n",
       "    <tr>\n",
       "      <th>253434</th>\n",
       "      <td>0</td>\n",
       "      <td>1983985588</td>\n",
       "      <td>Sun May 31 14:13:02 PDT 2009</td>\n",
       "      <td>NO_QUERY</td>\n",
       "      <td>nzsharde</td>\n",
       "      <td>Nooooooo! I don't want to go back to Auckland</td>\n",
       "    </tr>\n",
       "    <tr>\n",
       "      <th>371291</th>\n",
       "      <td>0</td>\n",
       "      <td>2050386707</td>\n",
       "      <td>Fri Jun 05 18:34:38 PDT 2009</td>\n",
       "      <td>NO_QUERY</td>\n",
       "      <td>melvolner</td>\n",
       "      <td>@iamluvnjordan I'm hearing ya and thinking abo...</td>\n",
       "    </tr>\n",
       "    <tr>\n",
       "      <th>1363383</th>\n",
       "      <td>4</td>\n",
       "      <td>2049499897</td>\n",
       "      <td>Fri Jun 05 16:59:28 PDT 2009</td>\n",
       "      <td>NO_QUERY</td>\n",
       "      <td>slayerroly</td>\n",
       "      <td>@Carlosjr142  exactly... had to take it back a...</td>\n",
       "    </tr>\n",
       "    <tr>\n",
       "      <th>1352711</th>\n",
       "      <td>4</td>\n",
       "      <td>2046480273</td>\n",
       "      <td>Fri Jun 05 12:14:25 PDT 2009</td>\n",
       "      <td>NO_QUERY</td>\n",
       "      <td>LindsTx</td>\n",
       "      <td>'brother' meaning... my older brothers best fr...</td>\n",
       "    </tr>\n",
       "    <tr>\n",
       "      <th>891386</th>\n",
       "      <td>4</td>\n",
       "      <td>1690797278</td>\n",
       "      <td>Sun May 03 16:24:04 PDT 2009</td>\n",
       "      <td>NO_QUERY</td>\n",
       "      <td>dan_ashcroft</td>\n",
       "      <td>IDIOTat)SIDRENO Hey, th*nks for the follow! &amp;l...</td>\n",
       "    </tr>\n",
       "  </tbody>\n",
       "</table>\n",
       "</div>"
      ],
      "text/plain": [
       "         0           1                             2         3  \\\n",
       "1164659  4  1979779494  Sun May 31 04:28:27 PDT 2009  NO_QUERY   \n",
       "914686   4  1752940783  Sat May 09 23:31:34 PDT 2009  NO_QUERY   \n",
       "401797   0  2057766258  Sat Jun 06 13:37:16 PDT 2009  NO_QUERY   \n",
       "1285514  4  2002154682  Tue Jun 02 03:19:33 PDT 2009  NO_QUERY   \n",
       "353550   0  2032536741  Thu Jun 04 11:24:03 PDT 2009  NO_QUERY   \n",
       "253434   0  1983985588  Sun May 31 14:13:02 PDT 2009  NO_QUERY   \n",
       "371291   0  2050386707  Fri Jun 05 18:34:38 PDT 2009  NO_QUERY   \n",
       "1363383  4  2049499897  Fri Jun 05 16:59:28 PDT 2009  NO_QUERY   \n",
       "1352711  4  2046480273  Fri Jun 05 12:14:25 PDT 2009  NO_QUERY   \n",
       "891386   4  1690797278  Sun May 03 16:24:04 PDT 2009  NO_QUERY   \n",
       "\n",
       "                      4                                                  5  \n",
       "1164659          Ambaba  @DannyLamond danny lamond you are a willy and ...  \n",
       "914686   mypetpeevescom  I love Google's Mothers day theme  http://tr.i...  \n",
       "401797       Bridget004  im gonna have to give my laptop in soon  i hat...  \n",
       "1285514         Nesciox  I finished my suggestion for one jewellery com...  \n",
       "353550   sheandidesigns                 @pixieclips the link doesn't work   \n",
       "253434         nzsharde     Nooooooo! I don't want to go back to Auckland   \n",
       "371291        melvolner  @iamluvnjordan I'm hearing ya and thinking abo...  \n",
       "1363383      slayerroly  @Carlosjr142  exactly... had to take it back a...  \n",
       "1352711         LindsTx  'brother' meaning... my older brothers best fr...  \n",
       "891386     dan_ashcroft  IDIOTat)SIDRENO Hey, th*nks for the follow! &l...  "
      ]
     },
     "execution_count": 5,
     "metadata": {},
     "output_type": "execute_result"
    }
   ],
   "source": [
    "data.sample(n=10)"
   ]
  },
  {
   "cell_type": "code",
   "execution_count": 36,
   "metadata": {},
   "outputs": [],
   "source": [
    "data = data.rename(columns={0:'label',5:'text'})\n",
    "data = data[['text','label']] # Taking only tweets and the the label\n",
    "data['label'] = data['label'].map({0:'negative',4:'positive'}) # Mapping the label to 'negative' and 'positive'"
   ]
  },
  {
   "cell_type": "code",
   "execution_count": 39,
   "metadata": {
    "scrolled": true
   },
   "outputs": [],
   "source": [
    "data = data.sample(frac=1) # Shuffle the whole dataset"
   ]
  },
  {
   "cell_type": "markdown",
   "metadata": {},
   "source": [
    "##### Creating train/eval/test splits\n",
    "We are going to take 80% for training 10% for validation and 10% test"
   ]
  },
  {
   "cell_type": "code",
   "execution_count": 40,
   "metadata": {},
   "outputs": [],
   "source": [
    "data.iloc[:int(len(data)*0.8)].to_csv(os.path.join(data_folder,'train_data.csv'), index=False)\n",
    "data.iloc[int(len(data)*0.8):int(len(data)*0.9)].to_csv(os.path.join(data_folder,'eval_data.csv'), index=False)\n",
    "data.iloc[int(len(data)*0.9):].to_csv(os.path.join(data_folder,'test_data.csv'), index=False)"
   ]
  }
 ],
 "metadata": {
  "kernelspec": {
   "display_name": "fresh_tf",
   "language": "python",
   "name": "fresh_tf"
  },
  "language_info": {
   "codemirror_mode": {
    "name": "ipython",
    "version": 3
   },
   "file_extension": ".py",
   "mimetype": "text/x-python",
   "name": "python",
   "nbconvert_exporter": "python",
   "pygments_lexer": "ipython3",
   "version": "3.6.4"
  }
 },
 "nbformat": 4,
 "nbformat_minor": 2
}
